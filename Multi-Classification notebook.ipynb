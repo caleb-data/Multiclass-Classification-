{
 "cells": [
  {
   "cell_type": "markdown",
   "id": "b7b463ea-9cbd-4ce4-ba90-3167fb9ea811",
   "metadata": {},
   "source": [
    "# The Dollar Tree Website\n",
    "\n",
    "## Multi-class classification\n",
    "\n",
    "The data set is about the sales of items on the Dollar Tree Website. \n",
    "The task is to train one (1) classification algorithm (K-Nearest Neighbours, Stochastic Gradient Descent, Naïve Bayes, etc.) to predict the product category based on the other features. \n",
    "\n",
    "You may drop whatever columns you feel are not important for this training. Note that you will have to justify this during your presentation.\n",
    "\n",
    "     * The project focuses on the data preparation, modeling, and evaluation phase of the CRISP-DM. "
   ]
  },
  {
   "cell_type": "code",
   "execution_count": null,
   "id": "ecdb7b54-9716-4bab-a37c-24ac5f40cfc4",
   "metadata": {},
   "outputs": [],
   "source": [
    "# Import the necessary libraries\n",
    "import numpy as np\n",
    "import pandas as pd\n",
    "import datetime\n",
    "import matplotlib.pyplot as plt\n",
    "import seaborn as sns\n",
    "\n",
    "# Import warnings\n",
    "import warnings\n",
    "warnings.filterwarnings('ignore')\n",
    "%matplotlib inline"
   ]
  },
  {
   "cell_type": "code",
   "execution_count": null,
   "id": "a1bdbc83-72e5-4415-aa42-a748d69c573c",
   "metadata": {},
   "outputs": [],
   "source": [
    "# Load the data\n",
    "data = pd.read_csv(r\"C:\\Users\\nanay\\Downloads\\dollar_tree-231012-200322.csv\")\n",
    "data"
   ]
  },
  {
   "cell_type": "markdown",
   "id": "537f3fdc-65e5-4f0e-9725-b176ee220490",
   "metadata": {},
   "source": [
    "## 1. Data Understanding and Preparation"
   ]
  },
  {
   "cell_type": "code",
   "execution_count": null,
   "id": "e49b12b6-2e7f-482f-b6fe-bbf0682f367b",
   "metadata": {},
   "outputs": [],
   "source": [
    "# Check the info \n",
    "data.info()"
   ]
  },
  {
   "cell_type": "code",
   "execution_count": null,
   "id": "12dea2d1-60fc-4901-9886-757396139637",
   "metadata": {},
   "outputs": [],
   "source": [
    "# Convert date to datetime type\n",
    "data['Date'] = pd.to_datetime(data['Date'])\n",
    "\n",
    "# Check the dtype\n",
    "data.info()"
   ]
  },
  {
   "cell_type": "code",
   "execution_count": null,
   "id": "35543f2c-7c4f-4186-883c-f2daa9cc4f9a",
   "metadata": {},
   "outputs": [],
   "source": [
    "# List all elements in the columns\n",
    "\n",
    "for i, column in enumerate(data.columns):\n",
    "    print(f'Column-{i + 1}: {column}\\n', data[column].unique())\n",
    "    print('='* 70)"
   ]
  },
  {
   "cell_type": "code",
   "execution_count": null,
   "id": "53a38c94-42c8-4327-af72-0f0e8dbf0a78",
   "metadata": {},
   "outputs": [],
   "source": [
    "# Check for missing values\n",
    "data.isna().sum()"
   ]
  },
  {
   "cell_type": "code",
   "execution_count": null,
   "id": "592feff7-88d8-41bc-992a-131beb25b711",
   "metadata": {},
   "outputs": [],
   "source": [
    "# Drop Columns you do not need\n",
    "data= data. drop(['index','Column1'], axis = 1)\n",
    "\n",
    "data"
   ]
  },
  {
   "cell_type": "code",
   "execution_count": null,
   "id": "57ebb8ea-b0e1-4694-ba57-d772c397801d",
   "metadata": {},
   "outputs": [],
   "source": [
    "# drop missing values\n",
    "data = data.dropna()\n",
    "data"
   ]
  },
  {
   "cell_type": "code",
   "execution_count": null,
   "id": "dec05ff2-4c43-4377-95c5-00ced68c82d6",
   "metadata": {},
   "outputs": [],
   "source": [
    "# Check for duplicated values\n",
    "data.duplicated().sum()"
   ]
  },
  {
   "cell_type": "code",
   "execution_count": null,
   "id": "4c493858-37ab-4620-a0f3-1f0c555a0bd8",
   "metadata": {},
   "outputs": [],
   "source": [
    "# Show the duplicated value\n",
    "\n",
    "data.loc[data.duplicated()]"
   ]
  },
  {
   "cell_type": "code",
   "execution_count": null,
   "id": "63fa77dc-536b-41d0-b90a-7b9a554f8826",
   "metadata": {},
   "outputs": [],
   "source": [
    "# Drop the duplicate\n",
    "data.drop_duplicates(inplace = True)\n"
   ]
  },
  {
   "cell_type": "code",
   "execution_count": null,
   "id": "175725f4-67b0-42d0-956b-a16a929c952f",
   "metadata": {},
   "outputs": [],
   "source": [
    "# Descriptive statistics for numerical columns\n",
    "data.describe().T"
   ]
  },
  {
   "cell_type": "code",
   "execution_count": null,
   "id": "4e63e709-bbc4-40ca-9863-fb394941dcb1",
   "metadata": {},
   "outputs": [],
   "source": [
    "# Descriptive statistics for categorical columns \n",
    "data.describe(include=\"object\").T"
   ]
  },
  {
   "cell_type": "code",
   "execution_count": null,
   "id": "e4cf3779-8f56-463f-8a6d-b87080751e25",
   "metadata": {},
   "outputs": [],
   "source": [
    "# Check for the numerical columns\n",
    "numeric_columns = data.select_dtypes('number').columns\n",
    "numeric_columns"
   ]
  },
  {
   "cell_type": "code",
   "execution_count": null,
   "id": "984ea08b-97ac-4a6d-9951-721724805041",
   "metadata": {},
   "outputs": [],
   "source": [
    "# Check for the correlation of the continuous variables\n",
    "correlation = data[numeric_columns].corr()\n",
    "correlation"
   ]
  },
  {
   "cell_type": "code",
   "execution_count": null,
   "id": "d5206f84-4a43-4479-9e6e-81633bd9e7c8",
   "metadata": {},
   "outputs": [],
   "source": [
    "# Check for the correlation of the continuous variables using Heatmap\n",
    "plt.figure(figsize=(10, 8)) \n",
    "sns.heatmap(correlation, annot=True, fmt='.2f', cmap='coolwarm')\n",
    "plt.title('Heatmap of Numeric Features', fontsize=17)\n",
    "plt.show()"
   ]
  },
  {
   "cell_type": "code",
   "execution_count": null,
   "id": "2d8c07e2-b9ac-4b8b-8b49-3417060fdf4a",
   "metadata": {},
   "outputs": [],
   "source": [
    "# Describe the continuous variables\n",
    "plt.figure(figsize=(14, 5)) \n",
    "sns.boxplot(data,orient='h')\n",
    "plt.title('Boxplot of Features', fontsize=18)\n",
    "plt.show()"
   ]
  },
  {
   "cell_type": "markdown",
   "id": "c1417af1-31d4-4543-a4b5-98e115ee236e",
   "metadata": {},
   "source": []
  },
  {
   "cell_type": "code",
   "execution_count": null,
   "id": "e8b4749d-7541-4605-88c2-76a19d09817d",
   "metadata": {},
   "outputs": [],
   "source": [
    "# Box plot for just age\n",
    "plt.figure(figsize=(14, 5)) \n",
    "sns.boxplot(data['Customer Age'],orient='h')\n",
    "plt.title('Boxplot of Features', fontsize=18)\n",
    "plt.show()"
   ]
  },
  {
   "cell_type": "code",
   "execution_count": null,
   "id": "508f1841-7f02-4c32-ac85-08ce91e83d0c",
   "metadata": {},
   "outputs": [],
   "source": [
    "# Check for the categorical columns \n",
    "categorical_columns = data.select_dtypes('object').columns\n",
    "categorical_columns"
   ]
  },
  {
   "cell_type": "code",
   "execution_count": null,
   "id": "1b063ec7-7423-45d0-a566-6f039e831fdf",
   "metadata": {},
   "outputs": [],
   "source": [
    "# Change M & F\n",
    "data['Customer Gender'] = data['Customer Gender'].replace('M', 'Male')\n",
    "data['Customer Gender'] = data['Customer Gender'].replace('F', 'Female')\n",
    "data"
   ]
  },
  {
   "cell_type": "markdown",
   "id": "9f2e2c5d-4975-4d4c-9c84-8452b28eecba",
   "metadata": {},
   "source": [
    "#### **Answering Analytical Questions**"
   ]
  },
  {
   "cell_type": "markdown",
   "id": "12e67d84-b069-4c09-b854-643f00912bfe",
   "metadata": {},
   "source": [
    "**1. Contribution to Revenue by Product Category**"
   ]
  },
  {
   "cell_type": "code",
   "execution_count": null,
   "id": "ca670d8f-5c4b-4f37-bd16-d86320c2f781",
   "metadata": {},
   "outputs": [],
   "source": [
    "plt.figure(figsize=(10, 6))\n",
    "sns.violinplot(data=data, x='Product Category', y='Revenue',color='skyblue')\n",
    "plt.title('Violinplot using Product Category and Revenue', fontsize=15)\n",
    "plt.show()"
   ]
  },
  {
   "cell_type": "markdown",
   "id": "1ee210fa-1383-413a-ad3d-225764c985fc",
   "metadata": {},
   "source": [
    "**2. Which Product and Sub Category has the highest counts?**"
   ]
  },
  {
   "cell_type": "code",
   "execution_count": null,
   "id": "a1f7952e-f342-4f6e-9180-9f9605f62679",
   "metadata": {},
   "outputs": [],
   "source": [
    "pro_sub = data.groupby('Product Category')['Sub Category'].value_counts().rename('Breakdown')\n",
    "pro_sub = pro_sub.reset_index()\n",
    "pro_sub"
   ]
  },
  {
   "cell_type": "code",
   "execution_count": null,
   "id": "197140e6-3e13-4d04-b47b-5e0b7b94824a",
   "metadata": {},
   "outputs": [],
   "source": [
    "# Plotting\n",
    "plt.figure(figsize=(10, 6))\n",
    "sns.countplot(data=data, x='Product Category', hue='Sub Category', palette=\"Set2\")\n",
    "plt.legend(loc='best')\n",
    "plt.show()"
   ]
  },
  {
   "cell_type": "markdown",
   "id": "9fc12e46-668b-4328-8622-9ec0be0ef436",
   "metadata": {},
   "source": [
    "**3. What are the percentages for Product Category?**"
   ]
  },
  {
   "cell_type": "code",
   "execution_count": null,
   "id": "de4ebec9-5df2-4d3c-9a40-09da0a6dcf8a",
   "metadata": {},
   "outputs": [],
   "source": [
    "plt.figure(figsize=(10, 8))\n",
    "data['Product Category'].value_counts().plot.pie(startangle=90, explode=(0.01, 0.03, 0.05), colors=['magenta','brown','yellow'], autopct='%.1f%%')\n",
    "plt.title('Product Category Percentages', fontsize=15)\n",
    "plt.show()"
   ]
  },
  {
   "cell_type": "markdown",
   "id": "cf3cda3d-6e08-40bb-9ed9-14ac76cc15bd",
   "metadata": {},
   "source": [
    "**4. What are the percentages for Males and Females?**"
   ]
  },
  {
   "cell_type": "code",
   "execution_count": null,
   "id": "bee70cc9-9679-46c5-890b-311455d1d7d5",
   "metadata": {},
   "outputs": [],
   "source": [
    "plt.figure(figsize=(10, 8))\n",
    "data['Customer Gender'].value_counts().plot.pie(startangle=90, explode=(0.01, 0.05), colors=['pink','green'], autopct='%.1f%%')\n",
    "plt.title('Customer Gender Percentages', fontsize=15)\n",
    "plt.show()"
   ]
  },
  {
   "cell_type": "markdown",
   "id": "fd48294d-2c21-4345-9602-95c7d6f17da8",
   "metadata": {},
   "source": [
    "**5. How many countries do we have?**"
   ]
  },
  {
   "cell_type": "code",
   "execution_count": null,
   "id": "79224fe4-bb6e-44f1-8e07-6fff3605b257",
   "metadata": {},
   "outputs": [],
   "source": [
    "plt.figure(figsize=(10, 8))\n",
    "data['Country'].value_counts().plot.bar(cmap=plt.get_cmap('gist_earth'))\n",
    "plt.title('Country', fontsize=15)\n",
    "plt.legend()\n",
    "plt.show()"
   ]
  },
  {
   "cell_type": "markdown",
   "id": "c8c7224e-2c31-4bad-a92c-d2f4d8a6e837",
   "metadata": {},
   "source": [
    "#### **Split Dataset into Training and Evaluation**\n",
    "\n",
    "- X = input_data\n",
    "- y = label"
   ]
  },
  {
   "cell_type": "markdown",
   "id": "40de5a1c-36d7-45e5-b0fe-113475f31a43",
   "metadata": {},
   "source": [
    "Since this is a `Multi-Class Classification ( If the number of class is more than two)`"
   ]
  },
  {
   "cell_type": "code",
   "execution_count": null,
   "id": "45e3030d-d284-46bb-ad66-7a98b791ef18",
   "metadata": {},
   "outputs": [],
   "source": [
    "from sklearn.model_selection import train_test_split\n",
    "\n",
    "# Select x\n",
    "X = data.drop('Product Category', axis=1)\n",
    "X"
   ]
  },
  {
   "cell_type": "code",
   "execution_count": null,
   "id": "1e3e2c24-3cb8-40d4-a1f8-5e9dc0fa7785",
   "metadata": {},
   "outputs": [],
   "source": [
    "# Select y\n",
    "y = data['Product Category']\n",
    "y"
   ]
  },
  {
   "cell_type": "code",
   "execution_count": null,
   "id": "1c81bc1c-ef8b-42cd-a916-81425cdd722c",
   "metadata": {},
   "outputs": [],
   "source": [
    "# Split data into training and test sets\n",
    "X_train, X_test, y_train, y_test = train_test_split(X, y, train_size=0.8,random_state=42, stratify=y)"
   ]
  },
  {
   "cell_type": "markdown",
   "id": "d533bfe8-1b0b-42d9-b046-09d249808884",
   "metadata": {},
   "source": [
    "## Terms to take note.\n",
    "\n",
    "''' Simple imputer -- is used for imputing missing values in datasets. \n",
    "It replaces missing values with a specified strategy, such as mean, median, most frequent value, or constant value.\n",
    "\n",
    "OneHotEncoder --  is used for converting categorical data into numerical data. It transforms categorical variables into binary vectors, \n",
    "where each column corresponds to a unique category and is marked as 1 if the sample belongs to that category, and 0 otherwise.\n",
    "\n",
    "\n",
    "RobustScaler --  used for scaling features according to the quantile range, making it robust to outliers.\n",
    "(useful when dealing with datasets that have outliers.) \n",
    "\n",
    "FunctionTransformer: This class allows you to apply a custom function to transform data within a scikit-learn pipeline. \n",
    "It’s useful for applying custom transformations that are not directly available in scikit-learn.\n",
    "\n",
    "Pipeline -- used to chain multiple transformers and estimators together into a single unit when preprocessing data and building machine learning models. \n",
    "\n",
    "\n",
    "ColumnTransformer -- used to apply different transformations to different columns\n",
    "(a mix of numerical and categorical features that require different preprocessing steps)\n",
    "\n",
    "classification_report --  computes a classification report, which includes precision, recall, F1-score, and support for each class.\n",
    "For evaluating the performance of a classification model.\n"
   ]
  },
  {
   "cell_type": "code",
   "execution_count": null,
   "id": "7305d7c8-7a55-4a16-85ee-c496a4d97157",
   "metadata": {},
   "outputs": [],
   "source": [
    "from sklearn.impute import SimpleImputer\n",
    "from sklearn.preprocessing import OneHotEncoder, RobustScaler, FunctionTransformer\n",
    "from sklearn.pipeline import Pipeline\n",
    "from sklearn.compose import ColumnTransformer\n",
    "from sklearn.metrics import classification_report\n",
    "from sklearn.preprocessing import LabelEncoder\n",
    "from sklearn.linear_model import SGDClassifier\n",
    "\n",
    "'''Label encoder --  categorical labels into numerical labels. Each unique category in the column is assigned an integer value\n",
    "(Change the product category from class to numbers)'''\n",
    "\n",
    "l_encoder = LabelEncoder()\n",
    "y_train_encoded = l_encoder.fit_transform(y_train)\n",
    "y_test_encoded = l_encoder.transform(y_test)"
   ]
  },
  {
   "cell_type": "code",
   "execution_count": null,
   "id": "8c9221c4-772f-49bb-a2fb-1c9ae4ce48dd",
   "metadata": {},
   "outputs": [],
   "source": [
    "# Create a Data Preprocessing Pipeline for all your numeric data\n",
    "num_pipeline = Pipeline([\n",
    "    ('imputer', SimpleImputer(strategy='median')),\n",
    "    ('log_tranformation', FunctionTransformer(np.log1p)),\n",
    "    ('scaler', RobustScaler()),\n",
    "])\n",
    "\n",
    "# Create a Data Pre Processing Pipeline for all your categorical Data\n",
    "cat_pipeline = Pipeline([\n",
    "    ('imputer', SimpleImputer(strategy='most_frequent')),\n",
    "    ('mapping', OneHotEncoder(sparse_output=False, drop='first')) \n",
    "])"
   ]
  },
  {
   "cell_type": "code",
   "execution_count": null,
   "id": "acd5be64-4a60-4785-a7d3-2c3e66551fdd",
   "metadata": {},
   "outputs": [],
   "source": [
    "# Create a list of the attributes of the train data\n",
    "num_attri = X_train.select_dtypes('number').columns\n",
    "\n",
    "# Create a list of the categorical variables of the train data\n",
    "cat_attri = X_train.select_dtypes('object').columns\n",
    "\n",
    "preprocessor = ColumnTransformer([\n",
    "    ('num', num_pipeline, num_attri),\n",
    "    ('cat', cat_pipeline, cat_attri)\n",
    "    ])        \n",
    "\n",
    "preprocessor"
   ]
  },
  {
   "cell_type": "code",
   "execution_count": null,
   "id": "8563e906",
   "metadata": {},
   "outputs": [],
   "source": [
    "X_train.isna().sum()"
   ]
  },
  {
   "cell_type": "markdown",
   "id": "41950747-494c-4df4-baa7-93fc82cece43",
   "metadata": {},
   "source": [
    "## Model 1"
   ]
  },
  {
   "cell_type": "code",
   "execution_count": null,
   "id": "da7627d9-e05c-40a1-b680-2e53bee17576",
   "metadata": {},
   "outputs": [],
   "source": [
    "\n",
    "# import\n",
    "from sklearn.naive_bayes import GaussianNB\n",
    "\n",
    "# Fit model to training data\n",
    "naive_bayes_pipeline = Pipeline(steps=[\n",
    "    ('preprocessor', preprocessor),\n",
    "    ('classifier',  GaussianNB())\n",
    "]) \n",
    "\n",
    "# Train data\n",
    "naive_bayes_pipeline.fit(X_train, y_train_encoded)\n",
    "\n",
    "# Predict\n",
    "y_pred = naive_bayes_pipeline.predict(X_test)\n",
    "\n",
    "# View report & print\n",
    "report = classification_report(y_test_encoded, y_pred)\n",
    "\n",
    "print(report)"
   ]
  },
  {
   "cell_type": "code",
   "execution_count": null,
   "id": "089b6770",
   "metadata": {},
   "outputs": [],
   "source": [
    "# View pipeline\n",
    "naive_bayes_pipeline"
   ]
  },
  {
   "cell_type": "markdown",
   "id": "c50ac743-c576-4748-b6d9-2bd60ca3846c",
   "metadata": {},
   "source": [
    "## Model 2"
   ]
  },
  {
   "cell_type": "code",
   "execution_count": null,
   "id": "411f5960-05a1-4e9e-bb36-ecc6aee1deb4",
   "metadata": {},
   "outputs": [],
   "source": [
    "from sklearn.neighbors import KNeighborsClassifier\n",
    "\n",
    "# Initialize model\n",
    "\n",
    "knn_pipeline = Pipeline(steps=[\n",
    "    ('preprocessor', preprocessor),\n",
    "    ('classifier',  KNeighborsClassifier())\n",
    "]) \n",
    "\n",
    "# Fit model to training data\n",
    "knn_pipeline.fit(X_train, y_train_encoded)\n",
    "\n",
    "# Predict\n",
    "y_pred = knn_pipeline.predict(X_test)\n",
    "\n",
    "\n",
    "report = classification_report(y_test_encoded, y_pred)\n",
    "\n",
    "print(report)"
   ]
  },
  {
   "cell_type": "code",
   "execution_count": null,
   "id": "c51f3b41-b000-4dde-af4b-def4bdd54587",
   "metadata": {},
   "outputs": [],
   "source": [
    "# View pipeline\n",
    "knn_pipeline"
   ]
  },
  {
   "cell_type": "markdown",
   "id": "be67cc69-7451-4207-b85d-89ba69dbd92d",
   "metadata": {},
   "source": [
    "## Model 3"
   ]
  },
  {
   "cell_type": "code",
   "execution_count": null,
   "id": "63f5ef7d",
   "metadata": {},
   "outputs": [],
   "source": [
    "# Fit model to training data\n",
    "sgd_pipeline = Pipeline(steps=[\n",
    "    ('preprocessor', preprocessor),\n",
    "    ('classifier',  SGDClassifier())\n",
    "]) \n",
    "\n",
    "sgd_pipeline.fit(X_train, y_train_encoded)\n",
    "\n",
    "y_pred = sgd_pipeline.predict(X_test)\n",
    "\n",
    "report = classification_report(y_test_encoded, y_pred)\n",
    "\n",
    "print(report)"
   ]
  },
  {
   "cell_type": "code",
   "execution_count": null,
   "id": "3bc6d86f-e086-4791-b404-a91f707255f2",
   "metadata": {},
   "outputs": [],
   "source": [
    "# View pipeline\n",
    "sgd_pipeline"
   ]
  },
  {
   "cell_type": "code",
   "execution_count": null,
   "id": "739b2ed5",
   "metadata": {},
   "outputs": [],
   "source": [
    "# Show the label classes\n",
    "l_encoder.classes_"
   ]
  },
  {
   "cell_type": "markdown",
   "id": "e1cb02b2-ce52-48eb-ad08-ffaf71bf5830",
   "metadata": {},
   "source": [
    "## Model 4"
   ]
  },
  {
   "cell_type": "code",
   "execution_count": null,
   "id": "df9ff8af",
   "metadata": {},
   "outputs": [],
   "source": [
    "from sklearn.ensemble import RandomForestClassifier\n",
    "\n",
    "# Initialize model\n",
    "# Fit model to training data\n",
    "forest_pipeline = Pipeline(steps=[\n",
    "    ('preprocessor', preprocessor),\n",
    "    ('classifier',  RandomForestClassifier(random_state=0, n_estimators=20))\n",
    "]) \n",
    "\n",
    "forest_pipeline.fit(X_train, y_train_encoded)\n",
    "\n",
    "y_pred = forest_pipeline.predict(X_test)\n",
    "\n",
    "report = classification_report(y_test_encoded, y_pred)\n",
    "\n",
    "print(report)"
   ]
  },
  {
   "cell_type": "code",
   "execution_count": null,
   "id": "a5544b72-5a9b-4737-a235-7b215d702ff6",
   "metadata": {},
   "outputs": [],
   "source": [
    "# View pipeline\n",
    "forest_pipeline"
   ]
  },
  {
   "cell_type": "code",
   "execution_count": null,
   "id": "e6d366a7-229d-441c-9de2-212502edf377",
   "metadata": {},
   "outputs": [],
   "source": [
    "# import \n",
    "from sklearn.metrics import confusion_matrix\n",
    "\n",
    "# Generate the confusion matrix\n",
    "conf_matrix = confusion_matrix(y_test_encoded, y_pred)\n",
    "\n",
    "# Plot the confusion matrix\n",
    "plt.figure(figsize=(12, 6))\n",
    "sns.heatmap(conf_matrix, annot=True, cmap='plasma', fmt='d', cbar=True)\n",
    "plt.xlabel('Predicted Labels')\n",
    "plt.ylabel('True Labels')\n",
    "plt.title('Confusion Matrix')\n",
    "plt.show()"
   ]
  },
  {
   "cell_type": "code",
   "execution_count": null,
   "id": "76595db9-23ca-4121-bc6b-fb6c5c9381f6",
   "metadata": {},
   "outputs": [],
   "source": []
  }
 ],
 "metadata": {
  "kernelspec": {
   "display_name": "Python 3 (ipykernel)",
   "language": "python",
   "name": "python3"
  },
  "language_info": {
   "codemirror_mode": {
    "name": "ipython",
    "version": 3
   },
   "file_extension": ".py",
   "mimetype": "text/x-python",
   "name": "python",
   "nbconvert_exporter": "python",
   "pygments_lexer": "ipython3",
   "version": "3.11.5"
  }
 },
 "nbformat": 4,
 "nbformat_minor": 5
}
